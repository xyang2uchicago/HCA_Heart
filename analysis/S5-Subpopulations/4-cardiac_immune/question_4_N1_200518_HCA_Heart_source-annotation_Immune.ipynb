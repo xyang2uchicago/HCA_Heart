# To reuse this dataset, I have downloaded the from https://www.heartcellatlas.org/ 
# On the page, I clicked the downloaded bottom at the bottom which is 
# https://cellgeni.cog.sanger.ac.uk/heartcellatlas/data/hca_heart_immune_download.h5ad

# My question is that I cannot generate a reasonably agreeable umap by following the code of
# https://github.com/cartal/HCA_Heart/blob/master/analysis/S5-Subpopulations/4-cardiac_immune/N1_200518_HCA_Heart_source-annotation_Immune.ipynb

# Following is my locally running code. 
# The line numbers below refer to the original lines in the N1_200518_HCA_Heart_source-annotation_Immune.ipynb
# My guess is that I have the wrong input file. Then where to find the correct input? 
# ALternatiuvelly, to use the object 'hca_heart_immune_download.h5ad', which notebook is correct?
# Thank you for reviewing and replying.

# First,  I replaced the 'hca_heart_global_ctl200422.h5ad' with the downloaded 'hca_heart_immune_download.h5ad' for 
# Line 104
adata = sc.read_h5ad("G:/projects/DS/data/heartcellatlas/hca_heart_immune_download.h5ad")

##############################################
## analyze to find marker genes
# line 423-424:
# "normalizing by total count per cell\n",
sc.pp.normalize_per_cell(adata, counts_per_cell_after = 1e4)
sc.pp.log1p(adata)

#line 466-469
sc.pp.highly_variable_genes(adata, flavor = 'seurat')
cells_hvg = adata[:, adata.var['highly_variable']]  
sc.pp.scale(cells_hvg, max_value = 10)
cells_hvg.shape
# (40868, 4486)  

# line 493-494
sc.tl.pca(cells_hvg, svd_solver = 'arpack', random_state = 1712)  
sc.pp.neighbors(cells_hvg, random_state = 1712)

# line 503-504; 545
# computing batch balanced neighbors
cells_hvg.obsm['X_pca_original'] = cells_hvg.obsm['X_pca'].copy()
cells_hvg.obsm['X_pca'] = regress_pca(cells_hvg.obsm['X_pca'], cells_hvg.obs['donor'])  
cells_bbknn = bbknn.bbknn(cells_hvg, neighbors_within_batch = 3, batch_key = 'donor',
                          annoy_n_trees = 30, copy = True)

# line 546-548, then the last code is my to plot the downloaded cell identity  
sc.tl.umap(cells_bbknn, min_dist = 0.2, spread = 1, random_state = 1712)
sc.tl.leiden(cells_bbknn, resolution = 1, random_state = 1786) 

sc.pl.umap(cells_bbknn, color = ['leiden', 'donor', 'region'], size = 7,
            legend_fontsize = 6, color_map = 'RdPu', frameon = False, save='_bbknn')
sc.pl.umap(cells_bbknn, color = 'cell_states', size = 7,
            legend_fontsize = 7, color_map = 'RdPu', frameon = False,
            legend_loc='on data', save='_bbknn_cell_state')

